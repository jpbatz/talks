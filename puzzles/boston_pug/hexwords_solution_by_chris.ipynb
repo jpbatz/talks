{
 "cells": [
  {
   "cell_type": "markdown",
   "metadata": {},
   "source": [
    "# Hex words"
   ]
  },
  {
   "cell_type": "markdown",
   "metadata": {},
   "source": [
    "From: https://github.com/pyhawaii/talks/blob/master/puzzles/boston_pug/hex_words.md\n",
    "\n",
    "This puzzle comes from the Boston Python User Group.\n",
    "\n",
    "Paraphrasing from Hex Words:\n",
    "\n",
    "Certain words can be generated using the six alpha characters used by the hexadecimal numbering system:\n",
    "\n",
    "a, b, c, d, e, and f.\n",
    "\n",
    "For our purposes and so that everyone is using the same dictionary use the words file in this repo's boston_pug folder.\n",
    "\n",
    "Find all English hex() words, i.e. strings of hex digits that appear to be English words. Each hex value can be converted into a decimal value.\n",
    "\n",
    "For example...\n",
    "\n",
    "The word bee in hex is 3054 in decimal.\n",
    "The word face in hex is 64206 in decimal.\n",
    "The word decade in hex is 14600926 in decimal.\n",
    "Find the hex word with the highest decimal value.\n",
    "\n",
    "For those who are interested, I pulled the words list off a Mac from /usr/share/dict/words\n",
    "\n",
    "Share your solutions with us, either via pull request OR email them to info@pyahawaii.com"
   ]
  },
  {
   "cell_type": "code",
   "execution_count": null,
   "metadata": {
    "collapsed": true
   },
   "outputs": [],
   "source": [
    "import string\n",
    "from collections import defaultdict"
   ]
  },
  {
   "cell_type": "markdown",
   "metadata": {},
   "source": [
    "We'll make a solution that works for any base 11 through 36.\n",
    "\n",
    "`a=10\n",
    "b=11\n",
    "c=12\n",
    "...`"
   ]
  },
  {
   "cell_type": "markdown",
   "metadata": {},
   "source": [
    "Strictly speaking we won't need the below, but it seems handy."
   ]
  },
  {
   "cell_type": "code",
   "execution_count": null,
   "metadata": {
    "collapsed": true
   },
   "outputs": [],
   "source": [
    "MAX_POWER = 20 # The longest word you expect to consider. 20 should be overkill"
   ]
  },
  {
   "cell_type": "code",
   "execution_count": null,
   "metadata": {},
   "outputs": [],
   "source": [
    "base=16\n",
    "values = dict(zip(string.ascii_lowercase[:base - 10],range(10, base)))\n",
    "powers = dict(zip(range(MAX_POWER), (base**i for i in range(MAX_POWER))))\n",
    "def word_value(word, base=16):\n",
    "    \"\"\"\n",
    "    word a string of lower case letters\n",
    "    base a number in range(10,37)\n",
    "    interprets the word as digits in the base and returns the value\n",
    "    \n",
    "    >>> word_value('a')\n",
    "    10\n",
    "    >>> word_value('aa')\n",
    "    170\n",
    "    >>> word_value('bee')\n",
    "    3054\n",
    "    >>> word_value('face')\n",
    "    64206\n",
    "    >>> word_value('decade')\n",
    "    14600926\n",
    "    \"\"\"\n",
    "    return sum(powers[i]*values[char] for i,char in enumerate(reversed(word)))\n",
    "    \n",
    "    "
   ]
  },
  {
   "cell_type": "markdown",
   "metadata": {},
   "source": [
    "We'll propose two solutions, one for efficiency and one for aesthetic value.\n",
    "\n",
    "Either way the strategy is the same: We find the alphabetically highest word of maximal length."
   ]
  },
  {
   "cell_type": "markdown",
   "metadata": {},
   "source": [
    "We assume `words.txt` is in the current directory, a text file with one word per line. We also assume the words are in case-insensitive alphabetical order."
   ]
  },
  {
   "cell_type": "markdown",
   "metadata": {},
   "source": [
    "## First solution: Designed for aesthetic"
   ]
  },
  {
   "cell_type": "markdown",
   "metadata": {},
   "source": [
    "We pass through words more than once unnecessarily and consider the full list unnecessarily.\n",
    "\n",
    "But since the code takes a fraction of a second, these indulgences are fine and indeed correct. Never optimize prematurely."
   ]
  },
  {
   "cell_type": "code",
   "execution_count": null,
   "metadata": {
    "collapsed": true
   },
   "outputs": [],
   "source": [
    "digits = {'\\n'}.union(set(string.ascii_lowercase[:base - 10]),\n",
    "                      set(string.ascii_uppercase[:base - 10]))\n",
    "# lowercase, capital letters and a newline allowed"
   ]
  },
  {
   "cell_type": "code",
   "execution_count": null,
   "metadata": {},
   "outputs": [],
   "source": [
    "with open('words.txt') as f:\n",
    "    words = [word.strip().lower() for word in f if set(word) <= digits]\n",
    "# \n",
    "word_lengths = defaultdict(list) # {length:list of words}\n",
    "for word in words:\n",
    "    word_lengths[len(word)].append(word)\n",
    "#\n",
    "max_length = max(word_lengths)\n",
    "#\n",
    "theword = max(word_lengths[max_length])\n",
    "theword, word_value(theword)"
   ]
  },
  {
   "cell_type": "markdown",
   "metadata": {},
   "source": [
    "## Second solution: Designed for efficiency"
   ]
  },
  {
   "cell_type": "markdown",
   "metadata": {},
   "source": [
    "We insert more work-saving checks along the way. Every check should save time but add ugliness.\n",
    "\n",
    "This is an inferior solution."
   ]
  },
  {
   "cell_type": "code",
   "execution_count": null,
   "metadata": {},
   "outputs": [],
   "source": [
    "digits = set(string.ascii_lowercase[:base - 10])\n",
    "\n",
    "word_lengths = defaultdict(list) # {length:list of words}\n",
    "max_length = 0\n",
    "try:\n",
    "    next_letter = string.ascii_lowercase[base-10]\n",
    "except IndexError:\n",
    "    # Should happen for base 36\n",
    "    next_letter = 'A' \n",
    "with open('words.txt') as f:\n",
    "    for word in f:\n",
    "        word = word.strip().lower()\n",
    "        if word.startswith(next_letter):\n",
    "            break\n",
    "        if set(word) <= digits:\n",
    "            l = len(word)\n",
    "            if l >= max_length:\n",
    "                max_length = l\n",
    "                word_lengths[l].append(word)\n",
    "theword=word_lengths[max_length][-1]\n",
    "theword, word_value(theword)"
   ]
  },
  {
   "cell_type": "markdown",
   "metadata": {},
   "source": [
    "Note that if the text file were not given in alphabetical order, the result would instead be:\n",
    "\n",
    "`max(word_lengths[max_length])`\n",
    "\n",
    "For the given word list, neither matters, as there is only one word of length 8!"
   ]
  },
  {
   "cell_type": "markdown",
   "metadata": {},
   "source": [
    "To consider: Our solution rejected any word containing special characters like spaces of hypens. For this word list, that turned out not to matter. "
   ]
  },
  {
   "cell_type": "code",
   "execution_count": null,
   "metadata": {
    "collapsed": true
   },
   "outputs": [],
   "source": []
  }
 ],
 "metadata": {
  "kernelspec": {
   "display_name": "Python 3",
   "language": "python",
   "name": "python3"
  },
  "language_info": {
   "codemirror_mode": {
    "name": "ipython",
    "version": 3
   },
   "file_extension": ".py",
   "mimetype": "text/x-python",
   "name": "python",
   "nbconvert_exporter": "python",
   "pygments_lexer": "ipython3",
   "version": "3.5.0"
  }
 },
 "nbformat": 4,
 "nbformat_minor": 2
}
