{
 "cells": [
  {
   "cell_type": "markdown",
   "metadata": {},
   "source": [
    "## Print Formatting and Logging Module"
   ]
  },
  {
   "cell_type": "code",
   "execution_count": 1,
   "metadata": {
    "collapsed": false
   },
   "outputs": [
    {
     "data": {
      "text/plain": [
       "'x = 42'"
      ]
     },
     "execution_count": 1,
     "metadata": {},
     "output_type": "execute_result"
    }
   ],
   "source": [
    "x = 42\n",
    "'x = {}'.format(x)"
   ]
  },
  {
   "cell_type": "code",
   "execution_count": 2,
   "metadata": {
    "collapsed": false
   },
   "outputs": [
    {
     "name": "stdout",
     "output_type": "stream",
     "text": [
      "Object `string.format` not found.\n"
     ]
    }
   ],
   "source": [
    "string.format()"
   ]
  },
  {
   "cell_type": "code",
   "execution_count": 5,
   "metadata": {
    "collapsed": false
   },
   "outputs": [
    {
     "name": "stdout",
     "output_type": "stream",
     "text": [
      "05:15:02\n"
     ]
    }
   ],
   "source": [
    "h = 5\n",
    "m = 15\n",
    "s = 2\n",
    "print('{:02d}:{:02d}:{:02d}'.format(h, m ,s))"
   ]
  },
  {
   "cell_type": "code",
   "execution_count": 7,
   "metadata": {
    "collapsed": false
   },
   "outputs": [
    {
     "name": "stdout",
     "output_type": "stream",
     "text": [
      "_______abcde________\n"
     ]
    }
   ],
   "source": [
    "print('{:_^20s}'.format('abcde')) # padding char on both sides"
   ]
  },
  {
   "cell_type": "markdown",
   "metadata": {},
   "source": [
    "\n",
    "Method 2: %-formatting\n",
    "The \"old\" way of formatting in python is using %-formatting (also called C-style formatting). While this isn't recommended any longer for general output, it is the only supported syntax for format strings in the logging module. This mechanism should be very familiar to people who have programmed in C."
   ]
  },
  {
   "cell_type": "code",
   "execution_count": 8,
   "metadata": {
    "collapsed": true
   },
   "outputs": [],
   "source": [
    "import logging\n",
    "\n",
    "# ignore this line, this is voodoo magic to make logging work within Jupyter\n",
    "logging.basicConfig(format='%(message)s', level=logging.DEBUG, datefmt='%I:%M:%S')\n",
    "# ok, start paying attention again :)\n",
    "\n",
    "log = logging.getLogger(__name__)"
   ]
  },
  {
   "cell_type": "code",
   "execution_count": null,
   "metadata": {
    "collapsed": true
   },
   "outputs": [],
   "source": [
    "# because we are in Jupyter, we don't need to add a handler, so this is commented out:\n",
    "# log.addHandler(logging.StreamHandler())\n",
    "# log.addHandler(logging.StreamHandler(loglevel=logging.WARNING))  # WARNING and above"
   ]
  },
  {
   "cell_type": "code",
   "execution_count": 9,
   "metadata": {
    "collapsed": false
   },
   "outputs": [
    {
     "name": "stderr",
     "output_type": "stream",
     "text": [
      "my first log message\n"
     ]
    }
   ],
   "source": [
    " log.info('my first log message')"
   ]
  },
  {
   "cell_type": "code",
   "execution_count": 15,
   "metadata": {
    "collapsed": false
   },
   "outputs": [
    {
     "name": "stderr",
     "output_type": "stream",
     "text": [
      "INFO: my info message\n"
     ]
    }
   ],
   "source": [
    "# all messages\n",
    "log.debug('DEBUG: my debug message')\n",
    "log.info('INFO: my info message')"
   ]
  },
  {
   "cell_type": "code",
   "execution_count": 18,
   "metadata": {
    "collapsed": false
   },
   "outputs": [
    {
     "name": "stderr",
     "output_type": "stream",
     "text": [
      "INFO: my info message\n"
     ]
    }
   ],
   "source": [
    "log.setLevel(logging.INFO)            # limit to info or higher, only\n",
    "log.debug('DEBUG: my debug message')  # debug is ignored\n",
    "log.info('INFO: my info message')"
   ]
  },
  {
   "cell_type": "code",
   "execution_count": 19,
   "metadata": {
    "collapsed": false
   },
   "outputs": [
    {
     "name": "stderr",
     "output_type": "stream",
     "text": [
      "DEBUG: my debug message\n",
      "INFO: my info message\n"
     ]
    }
   ],
   "source": [
    "log.setLevel(logging.DEBUG)            # limit to info, only\n",
    "log.debug('DEBUG: my debug message')   # debug and above (all!)\n",
    "log.info('INFO: my info message')      # above debug"
   ]
  },
  {
   "cell_type": "code",
   "execution_count": 23,
   "metadata": {
    "collapsed": false
   },
   "outputs": [
    {
     "name": "stdout",
     "output_type": "stream",
     "text": [
      "Object `log.formatter` not found.\n"
     ]
    }
   ],
   "source": []
  },
  {
   "cell_type": "code",
   "execution_count": null,
   "metadata": {
    "collapsed": true
   },
   "outputs": [],
   "source": [
    "log.removeHandler(handler)"
   ]
  }
 ],
 "metadata": {
  "kernelspec": {
   "display_name": "Python 3",
   "language": "python",
   "name": "python3"
  },
  "language_info": {
   "codemirror_mode": {
    "name": "ipython",
    "version": 3
   },
   "file_extension": ".py",
   "mimetype": "text/x-python",
   "name": "python",
   "nbconvert_exporter": "python",
   "pygments_lexer": "ipython3",
   "version": "3.6.0"
  }
 },
 "nbformat": 4,
 "nbformat_minor": 2
}
