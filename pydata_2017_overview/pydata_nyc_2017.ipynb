{
 "cells": [
  {
   "cell_type": "markdown",
   "metadata": {},
   "source": [
    "# Welcome to the Dark Art of Coding:\n",
    "## Introduction to Python\n",
    "\n",
    "PyData NYC 2017 Overview\n",
    "\n",
    "<img src='./logos.3.600.wide.png' height='250' width='300' style=\"float:right\">"
   ]
  },
  {
   "cell_type": "markdown",
   "metadata": {},
   "source": [
    "Agenda:\n",
    "\n",
    "* notebooks: beakerx, jupyter lab\n",
    "* pandas: future of pandas, head() to tail(), idiomatic python, datetimes\n",
    "* ml learning: sci-kit learn on top of pandas, shogun ml\n",
    "* pyspark: arrow, feather\n",
    "* visualization: interactive matplotlib\n",
    "* numfocus: state of numfocus\n",
    "* git: using git metadata to predict code bug risk\n"
   ]
  },
  {
   "cell_type": "markdown",
   "metadata": {},
   "source": [
    "# Notebooks\n",
    "---"
   ]
  },
  {
   "cell_type": "markdown",
   "metadata": {},
   "source": [
    "## `beakerx`"
   ]
  },
  {
   "cell_type": "markdown",
   "metadata": {},
   "source": [
    "* what is beaker?\n",
    "* what is beakerx?\n",
    "* how are they different?"
   ]
  },
  {
   "cell_type": "markdown",
   "metadata": {},
   "source": [
    "beaker was a jupyter-style notebook. It was supported by a company called two sigma.\n",
    "beakerx is a port of that as a jupyter notebook extension as opposed to a standalone product.\n",
    "beakerx adds significant functionality to jupyter notebooks such that you can do things like:\n",
    "\n",
    "* **polyglot**: run multiple computing languages IN THE SAME notebook\n",
    "* **enhances pandas** dataframe capabilities\n",
    "* **quick publish** directly from the notebook\n",
    "* **coming now-ish**: integrate with jupyter lab (more on this later) (alpha quality)"
   ]
  },
  {
   "cell_type": "code",
   "execution_count": 1,
   "metadata": {
    "init_cell": true
   },
   "outputs": [
    {
     "name": "stdout",
     "output_type": "stream",
     "text": [
      "Elapsed Time: 5.002179861068726\n"
     ]
    }
   ],
   "source": [
    "# This is also an initialization cell\n",
    "\n",
    "import time\n",
    "start_time = time.time()\n",
    "time.sleep(5)\n",
    "print(\"Elapsed Time:\", time.time() - start_time)"
   ]
  },
  {
   "cell_type": "code",
   "execution_count": 4,
   "metadata": {},
   "outputs": [
    {
     "name": "stdout",
     "output_type": "stream",
     "text": [
      "During initialization, nothing should have happened\n"
     ]
    }
   ],
   "source": [
    "# This is NOT an initialization cell\n",
    "print(\"During initialization, nothing should have happened\")"
   ]
  },
  {
   "cell_type": "code",
   "execution_count": 2,
   "metadata": {
    "init_cell": true
   },
   "outputs": [
    {
     "name": "stdout",
     "output_type": "stream",
     "text": [
      "Elapsed Time: 5.002023935317993\n"
     ]
    }
   ],
   "source": [
    "# This is also an initialization cell\n",
    "\n",
    "import time\n",
    "start_time = time.time()\n",
    "time.sleep(5)\n",
    "print(\"Elapsed Time:\", time.time() - start_time)"
   ]
  },
  {
   "cell_type": "code",
   "execution_count": 3,
   "metadata": {
    "collapsed": true,
    "init_cell": true
   },
   "outputs": [],
   "source": [
    "# This is an initialization cell\n",
    "\n",
    "import pandas as pd\n",
    "import numpy as np\n",
    "import sklearn"
   ]
  },
  {
   "cell_type": "code",
   "execution_count": 10,
   "metadata": {},
   "outputs": [
    {
     "data": {
      "application/vnd.jupyter.widget-view+json": {
       "model_id": "4f169445060b4ed99db0d270a8818810",
       "version_major": 2,
       "version_minor": 0
      }
     },
     "metadata": {},
     "output_type": "display_data"
    }
   ],
   "source": [
    "b = pd.DataFrame({'alpha':   list(range(1, 1001)),\n",
    "                  'beta':    list(range(1001, 3000, 2)),     # skip by twos\n",
    "                  'gamma':   list(range(1, 11)) * 100,       # repeating sequence\n",
    "                  'delta':   list(range(10, 110, 10)) * 100,\n",
    "                  'epsilon': list(range(1, 11)) * 100,\n",
    "   'zeta_long_name_column':  list(range(1, 11)) * 100,\n",
    "    'eta_long_name_column':  list(range(1, 11)) * 100,\n",
    "  'theta_long_name_column':  list(range(1, 11)) * 100,\n",
    "   'iota_long_name_column':  list(range(1, 11)) * 100,\n",
    "  'kappa_long_name_column':  list(range(1, 11)) * 100,\n",
    " 'lambda_long_name_column':  list(range(1, 11)) * 100,\n",
    "                      'mu':  list(range(1, 11)) * 100,})\n",
    "\n",
    "b             "
   ]
  },
  {
   "cell_type": "code",
   "execution_count": 6,
   "metadata": {
    "collapsed": true
   },
   "outputs": [],
   "source": [
    "import beakerx.runtime"
   ]
  },
  {
   "cell_type": "code",
   "execution_count": 11,
   "metadata": {},
   "outputs": [
    {
     "data": {
      "application/vnd.jupyter.widget-view+json": {
       "model_id": "a409526b0f934b2aaf50d736ccbc31aa",
       "version_major": 2,
       "version_minor": 0
      }
     },
     "metadata": {},
     "output_type": "display_data"
    }
   ],
   "source": [
    "# data bars\n",
    "# heat map\n",
    "# filter\n",
    "# reorganize\n",
    "\n",
    "b"
   ]
  },
  {
   "cell_type": "markdown",
   "metadata": {},
   "source": [
    "### Python to Javascript sample\n",
    "\n",
    "http://nbviewer.jupyter.org/github/twosigma/beakerx/blob/master/doc/python/autotranslation_python.ipynb"
   ]
  },
  {
   "cell_type": "markdown",
   "metadata": {},
   "source": [
    "### download it\n",
    "\n",
    "```python\n",
    "conda install -c conda-forge ipywidgets beakerx\n",
    "```    \n",
    "    "
   ]
  },
  {
   "cell_type": "markdown",
   "metadata": {},
   "source": [
    "## jupyter labs"
   ]
  },
  {
   "cell_type": "markdown",
   "metadata": {},
   "source": [
    "* what is jupyter\n",
    "* what is jupyter labs\n",
    "\n",
    "  * notebook and server interface\n",
    "  * tabs (and panels)\n",
    "  * renderers (json, csv) > panel interface & efficient renderers\n",
    "  * real-time collaboration\n",
    "  * file browser\n",
    "  * and more\n",
    "\n",
    "see the video:\n",
    "https://www.youtube.com/watch?v=dSjvK-Z3o3U\n",
    "\n",
    "A fun demo of interactive datamodels within Jupyter Lab\n",
    "https://youtu.be/dSjvK-Z3o3U?t=666\n",
    "\n",
    "* nothing is special > everything is a plugin > just about everything is customizable..."
   ]
  },
  {
   "cell_type": "markdown",
   "metadata": {},
   "source": [
    "# pandas\n",
    "---"
   ]
  },
  {
   "cell_type": "markdown",
   "metadata": {},
   "source": [
    "## future of pandas\n",
    "\n",
    "* pandas2 is coming\n",
    "* key goals:\n",
    "\n",
    "   * Fixing long-standing limitations or inconsistencies in missing data: null values in integer and boolean data, and a more consistent notion of null / NA.\n",
    "   * Improved performance and utilization of multicore systems\n",
    "   * Better user control / visibility of memory usage (which can be opaque and difficult to conttrol)\n",
    "   * Clearer semantics around non-NumPy data types, and permitting new pandas-only data types to be added\n",
    "   * Exposing a \"libpandas\" C/C++ API to other Python library developers: the internals of Series and DataFrame are only weakly accessible in other developers' native code. This has been a limitation for scikit-learn and other projects requiring C or Cython-level access to pandas object data.\n",
    "   * Removal of deprecated functionality\n",
    "\n",
    "https://github.com/pandas-dev/pandas2/blob/master/source/goals.rst"
   ]
  },
  {
   "cell_type": "markdown",
   "metadata": {},
   "source": [
    "## pandas talks to keep your eye on:\n",
    "\n",
    "\n",
    "* head() to tail()\n",
    "\n",
    "* idiomatic pandas\n",
    "\n",
    "* datetimes in pandas <<< `disclaimer, I gave this talk`\n",
    "\n",
    "    \n",
    "    \n",
    "    "
   ]
  },
  {
   "cell_type": "markdown",
   "metadata": {},
   "source": [
    "# machine learning\n",
    "---\n",
    "\n",
    "* scikit-learn on top of pandas >> scikit-learn rides on numpy and thus can't access many of the features of pandas\n",
    "* shogun ml"
   ]
  },
  {
   "cell_type": "markdown",
   "metadata": {},
   "source": [
    "# pyspark\n",
    "---\n",
    "\n",
    "Data portability is a major issue between systems > a proposed solution is **ARROW**\n",
    "\n",
    "## The problems\n",
    "\n",
    "<img src='./copy2.png' height='300' width='400' style=\"float:center\">\n",
    "\n",
    "* Each system has its own internal memory format\n",
    "* 70-80% computation wasted on serialization and deserialization\n",
    "* Similar functionality implemented in multiple projects\n",
    "\n",
    "<img src='./simd.png' height='400' width='500' style=\"float:center\">\n",
    "\n",
    "* memory formats are often not well designed for computers\n",
    "\n",
    "## A proposed solution\n",
    "<img src='./shared2.png' height='300' width='400' style=\"float:center\">\n",
    "\n",
    "* All systems utilize the same memory format\n",
    "* No overhead for cross-system communication\n",
    "* Projects can share functionality (eg, Parquet-to-Arrow reader)\n",
    "\n",
    "* columnar formats should speed up operations like:\n",
    "    * sorting\n",
    "    * searching\n",
    "    * aggregations (sum, mean, etc)\n",
    "    * groupings\n",
    "\n",
    "\n",
    "## There's more:\n",
    "\n",
    "* **ARROW** >> in memory data structure\n",
    "* **FEATHER** >> on disk data structure\n",
    "\n",
    "See: https://arrow.apache.org/ "
   ]
  },
  {
   "cell_type": "markdown",
   "metadata": {},
   "source": [
    "# visualization\n",
    "---\n",
    "\n",
    "* interactive matplotlib"
   ]
  },
  {
   "cell_type": "markdown",
   "metadata": {},
   "source": [
    "# numfocus\n",
    "---\n",
    "\n",
    "* state of numfocus\n",
    "\n",
    "DONATE: \n",
    "https://www.numfocus.org/open-source-projects/"
   ]
  },
  {
   "cell_type": "markdown",
   "metadata": {},
   "source": [
    "# git fun\n",
    "---\n",
    "\n",
    "* using git metadata to predict code bug risk"
   ]
  },
  {
   "cell_type": "markdown",
   "metadata": {},
   "source": [
    "Getting more:\n",
    "---"
   ]
  },
  {
   "cell_type": "markdown",
   "metadata": {},
   "source": [
    "Keep your eye on the pydata website\n",
    "https://pydata.org/events.html\n",
    "\n",
    "Keep your eye on the pydata youtube channel\n",
    "https://www.youtube.com/user/PyDataTV\n",
    "    "
   ]
  },
  {
   "cell_type": "code",
   "execution_count": null,
   "metadata": {
    "collapsed": true
   },
   "outputs": [],
   "source": []
  }
 ],
 "metadata": {
  "celltoolbar": "Initialization Cell",
  "kernelspec": {
   "display_name": "Python 3",
   "language": "python",
   "name": "python3"
  },
  "language_info": {
   "codemirror_mode": {
    "name": "ipython",
    "version": 3
   },
   "file_extension": ".py",
   "mimetype": "text/x-python",
   "name": "python",
   "nbconvert_exporter": "python",
   "pygments_lexer": "ipython3",
   "version": "3.6.3"
  }
 },
 "nbformat": 4,
 "nbformat_minor": 2
}
